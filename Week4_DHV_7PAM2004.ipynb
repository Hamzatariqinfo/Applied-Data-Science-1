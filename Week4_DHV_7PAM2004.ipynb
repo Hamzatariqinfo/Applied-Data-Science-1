{
 "cells": [
  {
   "cell_type": "markdown",
   "id": "237ebb11",
   "metadata": {},
   "source": [
    "# Data Handling and Visuialisation (7PAM2004) – Week 4 Tutorial \n",
    "\n",
    "## Today we will complete remaining exercises from Weeks 2 and 3\n",
    "\n",
    "### Objectives:\n",
    "+ Experience with basic Python, numpy, pandas, and matplotlib\n",
    "+ Practice reading CSV and parquet files\n",
    "+ Practice manipulating arrays and making plots\n",
    "+ Practice interpreting plots \n",
    "\n",
    "### The online python documentation is a particularly useful resource that can help you with this tutorial\n",
    "### https://matplotlib.org/stable/users/index"
   ]
  },
  {
   "cell_type": "markdown",
   "id": "ae70eda8",
   "metadata": {},
   "source": [
    "### Exercise 1: Stars from the European Space Agency's Gaia Mission\n",
    "\n",
    "I have performed a query of ESA's Gaia database to pick 1000 randomly selected stars. Gaia provides photometry (measures of brightness) and astrometry (measures of the very slight motions of the stars on the sky).\n",
    "\n",
    "The queried file is called: https://star.herts.ac.uk/~kuhn/DHV/gaia_random1000.parquet\n",
    "\n",
    "Recall that a parquet file may be read with the following pandas function:\n",
    "```python\n",
    "gaia = pd.read_parquet('')\n",
    "```\n",
    "\n",
    "Read this file and inspect the contents."
   ]
  },
  {
   "cell_type": "code",
   "execution_count": 21,
   "id": "1cc5404c",
   "metadata": {},
   "outputs": [
    {
     "name": "stdout",
     "output_type": "stream",
     "text": [
      "               source_id          ra        dec  parallax  parallax_error  \\\n",
      "0    5889059805439854848  234.271140 -52.218658  0.231855        0.067457   \n",
      "1    2026240608225775360  293.518842  28.533663  0.386283        0.079612   \n",
      "2    5889050803187502976  233.816075 -52.261231  0.325157        0.089158   \n",
      "3    1870129370301798784  310.979513  34.486223  0.568267        0.058328   \n",
      "4    5543541609247095168  127.206923 -34.350520  0.260559        0.060022   \n",
      "..                   ...         ...        ...       ...             ...   \n",
      "995  5998960180159002752  231.886476 -46.905728  0.918638        0.160481   \n",
      "996  5804152150222650880  258.849447 -72.533495  0.474966        0.101716   \n",
      "997  4065783305628473984  271.931501 -25.071045  1.598878        0.285806   \n",
      "998  4266496649293065728  282.924475   0.401698  1.862032        0.068592   \n",
      "999  4090076190388847232  277.448826 -21.796924  0.755181        0.076631   \n",
      "\n",
      "         pmra  pmra_error     pmdec  pmdec_error  phot_g_mean_mag  \n",
      "0   -1.118169    0.153004 -1.684435     0.122198        16.638042  \n",
      "1   -4.006486    0.100664 -8.814540     0.119978        16.985237  \n",
      "2   -4.103142    0.192589 -4.256599     0.178762        16.839481  \n",
      "3    2.851161    0.080367 -3.774436     0.089485        16.415411  \n",
      "4   -1.957424    0.083824  2.380031     0.107738        16.833437  \n",
      "..        ...         ...       ...          ...              ...  \n",
      "995 -4.953650    0.340926 -6.085492     0.298792        17.849840  \n",
      "996 -3.531570    0.149218 -5.003658     0.178121        17.508667  \n",
      "997 -0.532816    0.523007 -2.477795     0.426249        18.402308  \n",
      "998  1.480341    0.088946 -3.101312     0.083536        15.452104  \n",
      "999 -5.187166    0.200539 -7.820309     0.136239        14.789895  \n",
      "\n",
      "[1000 rows x 10 columns]\n"
     ]
    }
   ],
   "source": [
    "import pandas as pd\n",
    "import numpy as np\n",
    "import matplotlib.pyplot as plt\n",
    "\n",
    "gaia = pd.read_parquet('gaia_random1000.parquet')\n",
    "\n",
    "print(gaia)\n",
    "\n"
   ]
  },
  {
   "cell_type": "markdown",
   "id": "94be7e70",
   "metadata": {},
   "source": [
    "We want to calculate two quantities for each star: the star's distance (how far it is) and it's luminosity (how much light it produces).\n",
    "\n",
    "Distance can be calculated with the astrometric parallax quantity, where<br>\n",
    "<div align=\"center\">distance = 1000/parallax.</div>\n",
    "The unit for distance in astronomy is the 'parsec', where 1 parsec = $3.08\\times10^{13}$ km.\n",
    "\n",
    "The brightness of a star is included in its magnitude (phot_g_mean_mag). <b>Brighter stars have smaller magnitudes.</b> Distant objects appear fainter, so we need to correct for this using the followwing formula\n",
    "<div align=\"center\">absolute magnitude = phot_g_mean_mag + 5 log$_{10}$(parallax) - 10</div>\n",
    "\n"
   ]
  },
  {
   "cell_type": "code",
   "execution_count": 22,
   "id": "adb0cdf6",
   "metadata": {},
   "outputs": [],
   "source": [
    "# Calculates the quantities shown above\n",
    "gaia['distance'] = 1000/gaia['parallax']\n",
    "gaia['AbsoluteMagnitude'] = gaia['phot_g_mean_mag'] + 5*np.log10(gaia['parallax']) - 10\n",
    "\n",
    "# It's helpful to convert some quantities to log. Each unit represents a factor of 10 increase.\n",
    "gaia['log10_distance'] = np.log10(gaia['distance'])"
   ]
  },
  {
   "cell_type": "code",
   "execution_count": 23,
   "id": "688df8b4",
   "metadata": {},
   "outputs": [
    {
     "data": {
      "text/html": [
       "<div>\n",
       "<style scoped>\n",
       "    .dataframe tbody tr th:only-of-type {\n",
       "        vertical-align: middle;\n",
       "    }\n",
       "\n",
       "    .dataframe tbody tr th {\n",
       "        vertical-align: top;\n",
       "    }\n",
       "\n",
       "    .dataframe thead th {\n",
       "        text-align: right;\n",
       "    }\n",
       "</style>\n",
       "<table border=\"1\" class=\"dataframe\">\n",
       "  <thead>\n",
       "    <tr style=\"text-align: right;\">\n",
       "      <th></th>\n",
       "      <th>source_id</th>\n",
       "      <th>ra</th>\n",
       "      <th>dec</th>\n",
       "      <th>parallax</th>\n",
       "      <th>parallax_error</th>\n",
       "      <th>pmra</th>\n",
       "      <th>pmra_error</th>\n",
       "      <th>pmdec</th>\n",
       "      <th>pmdec_error</th>\n",
       "      <th>phot_g_mean_mag</th>\n",
       "      <th>distance</th>\n",
       "      <th>AbsoluteMagnitude</th>\n",
       "      <th>log10_distance</th>\n",
       "    </tr>\n",
       "  </thead>\n",
       "  <tbody>\n",
       "    <tr>\n",
       "      <th>0</th>\n",
       "      <td>5889059805439854848</td>\n",
       "      <td>234.271140</td>\n",
       "      <td>-52.218658</td>\n",
       "      <td>0.231855</td>\n",
       "      <td>0.067457</td>\n",
       "      <td>-1.118169</td>\n",
       "      <td>0.153004</td>\n",
       "      <td>-1.684435</td>\n",
       "      <td>0.122198</td>\n",
       "      <td>16.638042</td>\n",
       "      <td>4313.042516</td>\n",
       "      <td>3.464124</td>\n",
       "      <td>3.634784</td>\n",
       "    </tr>\n",
       "    <tr>\n",
       "      <th>1</th>\n",
       "      <td>2026240608225775360</td>\n",
       "      <td>293.518842</td>\n",
       "      <td>28.533663</td>\n",
       "      <td>0.386283</td>\n",
       "      <td>0.079612</td>\n",
       "      <td>-4.006486</td>\n",
       "      <td>0.100664</td>\n",
       "      <td>-8.814540</td>\n",
       "      <td>0.119978</td>\n",
       "      <td>16.985237</td>\n",
       "      <td>2588.776874</td>\n",
       "      <td>4.919764</td>\n",
       "      <td>3.413095</td>\n",
       "    </tr>\n",
       "    <tr>\n",
       "      <th>2</th>\n",
       "      <td>5889050803187502976</td>\n",
       "      <td>233.816075</td>\n",
       "      <td>-52.261231</td>\n",
       "      <td>0.325157</td>\n",
       "      <td>0.089158</td>\n",
       "      <td>-4.103142</td>\n",
       "      <td>0.192589</td>\n",
       "      <td>-4.256599</td>\n",
       "      <td>0.178762</td>\n",
       "      <td>16.839481</td>\n",
       "      <td>3075.439650</td>\n",
       "      <td>4.399945</td>\n",
       "      <td>3.487907</td>\n",
       "    </tr>\n",
       "    <tr>\n",
       "      <th>3</th>\n",
       "      <td>1870129370301798784</td>\n",
       "      <td>310.979513</td>\n",
       "      <td>34.486223</td>\n",
       "      <td>0.568267</td>\n",
       "      <td>0.058328</td>\n",
       "      <td>2.851161</td>\n",
       "      <td>0.080367</td>\n",
       "      <td>-3.774436</td>\n",
       "      <td>0.089485</td>\n",
       "      <td>16.415411</td>\n",
       "      <td>1759.735922</td>\n",
       "      <td>5.188173</td>\n",
       "      <td>3.245447</td>\n",
       "    </tr>\n",
       "    <tr>\n",
       "      <th>4</th>\n",
       "      <td>5543541609247095168</td>\n",
       "      <td>127.206923</td>\n",
       "      <td>-34.350520</td>\n",
       "      <td>0.260559</td>\n",
       "      <td>0.060022</td>\n",
       "      <td>-1.957424</td>\n",
       "      <td>0.083824</td>\n",
       "      <td>2.380031</td>\n",
       "      <td>0.107738</td>\n",
       "      <td>16.833437</td>\n",
       "      <td>3837.905097</td>\n",
       "      <td>3.912966</td>\n",
       "      <td>3.584094</td>\n",
       "    </tr>\n",
       "    <tr>\n",
       "      <th>...</th>\n",
       "      <td>...</td>\n",
       "      <td>...</td>\n",
       "      <td>...</td>\n",
       "      <td>...</td>\n",
       "      <td>...</td>\n",
       "      <td>...</td>\n",
       "      <td>...</td>\n",
       "      <td>...</td>\n",
       "      <td>...</td>\n",
       "      <td>...</td>\n",
       "      <td>...</td>\n",
       "      <td>...</td>\n",
       "      <td>...</td>\n",
       "    </tr>\n",
       "    <tr>\n",
       "      <th>995</th>\n",
       "      <td>5998960180159002752</td>\n",
       "      <td>231.886476</td>\n",
       "      <td>-46.905728</td>\n",
       "      <td>0.918638</td>\n",
       "      <td>0.160481</td>\n",
       "      <td>-4.953650</td>\n",
       "      <td>0.340926</td>\n",
       "      <td>-6.085492</td>\n",
       "      <td>0.298792</td>\n",
       "      <td>17.849840</td>\n",
       "      <td>1088.567624</td>\n",
       "      <td>7.665563</td>\n",
       "      <td>3.036855</td>\n",
       "    </tr>\n",
       "    <tr>\n",
       "      <th>996</th>\n",
       "      <td>5804152150222650880</td>\n",
       "      <td>258.849447</td>\n",
       "      <td>-72.533495</td>\n",
       "      <td>0.474966</td>\n",
       "      <td>0.101716</td>\n",
       "      <td>-3.531570</td>\n",
       "      <td>0.149218</td>\n",
       "      <td>-5.003658</td>\n",
       "      <td>0.178121</td>\n",
       "      <td>17.508667</td>\n",
       "      <td>2105.412760</td>\n",
       "      <td>5.891981</td>\n",
       "      <td>3.323337</td>\n",
       "    </tr>\n",
       "    <tr>\n",
       "      <th>997</th>\n",
       "      <td>4065783305628473984</td>\n",
       "      <td>271.931501</td>\n",
       "      <td>-25.071045</td>\n",
       "      <td>1.598878</td>\n",
       "      <td>0.285806</td>\n",
       "      <td>-0.532816</td>\n",
       "      <td>0.523007</td>\n",
       "      <td>-2.477795</td>\n",
       "      <td>0.426249</td>\n",
       "      <td>18.402308</td>\n",
       "      <td>625.438395</td>\n",
       "      <td>9.421385</td>\n",
       "      <td>2.796185</td>\n",
       "    </tr>\n",
       "    <tr>\n",
       "      <th>998</th>\n",
       "      <td>4266496649293065728</td>\n",
       "      <td>282.924475</td>\n",
       "      <td>0.401698</td>\n",
       "      <td>1.862032</td>\n",
       "      <td>0.068592</td>\n",
       "      <td>1.480341</td>\n",
       "      <td>0.088946</td>\n",
       "      <td>-3.101312</td>\n",
       "      <td>0.083536</td>\n",
       "      <td>15.452104</td>\n",
       "      <td>537.047617</td>\n",
       "      <td>6.802040</td>\n",
       "      <td>2.730013</td>\n",
       "    </tr>\n",
       "    <tr>\n",
       "      <th>999</th>\n",
       "      <td>4090076190388847232</td>\n",
       "      <td>277.448826</td>\n",
       "      <td>-21.796924</td>\n",
       "      <td>0.755181</td>\n",
       "      <td>0.076631</td>\n",
       "      <td>-5.187166</td>\n",
       "      <td>0.200539</td>\n",
       "      <td>-7.820309</td>\n",
       "      <td>0.136239</td>\n",
       "      <td>14.789895</td>\n",
       "      <td>1324.185230</td>\n",
       "      <td>4.180151</td>\n",
       "      <td>3.121949</td>\n",
       "    </tr>\n",
       "  </tbody>\n",
       "</table>\n",
       "<p>1000 rows × 13 columns</p>\n",
       "</div>"
      ],
      "text/plain": [
       "               source_id          ra        dec  parallax  parallax_error  \\\n",
       "0    5889059805439854848  234.271140 -52.218658  0.231855        0.067457   \n",
       "1    2026240608225775360  293.518842  28.533663  0.386283        0.079612   \n",
       "2    5889050803187502976  233.816075 -52.261231  0.325157        0.089158   \n",
       "3    1870129370301798784  310.979513  34.486223  0.568267        0.058328   \n",
       "4    5543541609247095168  127.206923 -34.350520  0.260559        0.060022   \n",
       "..                   ...         ...        ...       ...             ...   \n",
       "995  5998960180159002752  231.886476 -46.905728  0.918638        0.160481   \n",
       "996  5804152150222650880  258.849447 -72.533495  0.474966        0.101716   \n",
       "997  4065783305628473984  271.931501 -25.071045  1.598878        0.285806   \n",
       "998  4266496649293065728  282.924475   0.401698  1.862032        0.068592   \n",
       "999  4090076190388847232  277.448826 -21.796924  0.755181        0.076631   \n",
       "\n",
       "         pmra  pmra_error     pmdec  pmdec_error  phot_g_mean_mag  \\\n",
       "0   -1.118169    0.153004 -1.684435     0.122198        16.638042   \n",
       "1   -4.006486    0.100664 -8.814540     0.119978        16.985237   \n",
       "2   -4.103142    0.192589 -4.256599     0.178762        16.839481   \n",
       "3    2.851161    0.080367 -3.774436     0.089485        16.415411   \n",
       "4   -1.957424    0.083824  2.380031     0.107738        16.833437   \n",
       "..        ...         ...       ...          ...              ...   \n",
       "995 -4.953650    0.340926 -6.085492     0.298792        17.849840   \n",
       "996 -3.531570    0.149218 -5.003658     0.178121        17.508667   \n",
       "997 -0.532816    0.523007 -2.477795     0.426249        18.402308   \n",
       "998  1.480341    0.088946 -3.101312     0.083536        15.452104   \n",
       "999 -5.187166    0.200539 -7.820309     0.136239        14.789895   \n",
       "\n",
       "        distance  AbsoluteMagnitude  log10_distance  \n",
       "0    4313.042516           3.464124        3.634784  \n",
       "1    2588.776874           4.919764        3.413095  \n",
       "2    3075.439650           4.399945        3.487907  \n",
       "3    1759.735922           5.188173        3.245447  \n",
       "4    3837.905097           3.912966        3.584094  \n",
       "..           ...                ...             ...  \n",
       "995  1088.567624           7.665563        3.036855  \n",
       "996  2105.412760           5.891981        3.323337  \n",
       "997   625.438395           9.421385        2.796185  \n",
       "998   537.047617           6.802040        2.730013  \n",
       "999  1324.185230           4.180151        3.121949  \n",
       "\n",
       "[1000 rows x 13 columns]"
      ]
     },
     "execution_count": 23,
     "metadata": {},
     "output_type": "execute_result"
    }
   ],
   "source": [
    "gaia"
   ]
  },
  {
   "cell_type": "code",
   "execution_count": 24,
   "id": "4dfd17d0",
   "metadata": {
    "scrolled": true
   },
   "outputs": [
    {
     "data": {
      "image/png": "[encoded data removed]",
      "text/plain": [
       "<Figure size 1000x600 with 1 Axes>"
      ]
     },
     "metadata": {},
     "output_type": "display_data"
    }
   ],
   "source": [
    "plt.figure(figsize=(10, 6))  # Set the figure size (optional)\n",
    "plt.scatter(gaia['log10_distance'], gaia['AbsoluteMagnitude'], alpha=1, color='black', s=10)\n",
    "\n",
    "# Brighter stars have smaller absolute magnitudes. (See above)\n",
    "plt.gca().invert_yaxis()\n",
    "\n",
    "# Add titles and labels\n",
    "plt.xlabel('Log10(distance)')\n",
    "plt.ylabel('Absolute Magnitude')\n",
    "\n",
    "# Show grid (optional)\n",
    "plt.grid(True)"
   ]
  },
  {
   "cell_type": "markdown",
   "id": "ea030d40",
   "metadata": {},
   "source": [
    "What is happening in this plot? Is this reasonable considering that these are randomly selected stars?"
   ]
  },
  {
   "cell_type": "markdown",
   "id": "7f31f93b",
   "metadata": {},
   "source": [
    "Answer here.\n",
    "We have calculated the absolute magnitude of the stars and the log distance of the stars. From the plot we can see that there is a string correlation between these data. The more distant stars tent to be more intrinsically bright ant the nearer stars tend to be more intrinsically faint.\n",
    "\n",
    "More significally we have a strong *negative* correlation between absolute magnitude and log distance. This is negative because of the way absolute magnitude is defined. However, this negative interpretation can be intepreted as the strong positive correlation between distance an intrinsic brightness (as noted above).\n",
    "\n",
    "Does this make sense?\n",
    "\n",
    "Our Sun is just another star, like all other stars in this sample. It is not expected to be located at a special place in the universe. However, it looks like the stars nearest the sun are faint while the stars far from brightness ot be independent of their distance of sun.\n",
    "\n",
    "One explanation might be how we calculate absolute magnitude. The Equation for magnitude phot_g_mean_mag + 5log (parallax) -10 has a dependency on parallax. Thus, a measurement error in parallax would affect both our derived distance and absolute magnitudes. This would cause these values to be partially correlated.\n",
    "\n",
    "\n",
    "\n",
    "\n",
    "The inversion of the y-axis is common in HR diagrams since brighter stars have smaller absolute magnitudes. This helps to visually represent the luminosity of stars, where brighter stars are positioned higher up on the plot."
   ]
  },
  {
   "cell_type": "markdown",
   "id": "57ab75e0",
   "metadata": {},
   "source": [
    "### Example 3: Histogram\n",
    "\n",
    "The normal (or Gaussian) distribution is a probability distribution, where the most probable values are nearest the centre, and the probability of a value decreases (but never reaches zero) farther from the centre. These distributions are described by two parameters: the mean ($\\mu$), which provides the location of the centre; and the standard deviation ($\\sigma$), which gives the width of the distribution. \n",
    "\n",
    "The formula for the normal distribution is \n",
    "\n",
    "$p(x) = \\frac{1}{\\sigma \\sqrt{2\\pi} } e^{-\\frac{1}{2}\\left(\\frac{x-\\mu}{\\sigma}\\right)^2}$\n",
    "\n",
    "where $p(x)$ is the probability of measuring $x$.\n"
   ]
  },
  {
   "cell_type": "code",
   "execution_count": 26,
   "id": "525370d5",
   "metadata": {
    "scrolled": true
   },
   "outputs": [
    {
     "data": {
      "image/png": "[encoded data removed]",
      "text/plain": [
       "<Figure size 500x270 with 1 Axes>"
      ]
     },
     "metadata": {},
     "output_type": "display_data"
    }
   ],
   "source": [
    "# Here we create a histogram of a normal distribution with mean 115 and standard deviation 15\n",
    "mu, sigma = 115, 15\n",
    "x = mu + sigma * np.random.randn(10000) # Look up the numpy documentation for randn\n",
    "\n",
    "# Set up the plot\n",
    "fig, ax = plt.subplots(figsize=(5, 2.7), layout='constrained')\n",
    "\n",
    "# Here is the matplotlib code for a histogram\n",
    "n, bins, patches = ax.hist(x, 50, density=True, color='dodgerblue')\n",
    "\n",
    "ax.set_xlabel('Length [cm]')\n",
    "ax.set_ylabel('Probability')\n",
    "\n",
    "ax.text(75, .025, r'$\\mu=115,\\ \\sigma=15$')\n",
    "ax.axis([55, 175, 0, 0.03])\n",
    "ax.grid(True)"
   ]
  },
  {
   "cell_type": "markdown",
   "id": "5f1287e5",
   "metadata": {},
   "source": [
    "### Exercise 3a: \n",
    "\n",
    "Now adjust the code above to plot a *uniform* distribution between 0 and 1. \n",
    "\n",
    "You may want to examine the online documentation for numpy.random. \n"
   ]
  },
  {
   "cell_type": "code",
   "execution_count": 27,
   "id": "8edf006b",
   "metadata": {},
   "outputs": [
    {
     "data": {
      "image/png": "[encoded data removed]",
      "text/plain": [
       "<Figure size 500x270 with 1 Axes>"
      ]
     },
     "metadata": {},
     "output_type": "display_data"
    }
   ],
   "source": [
    "import numpy as np\n",
    "import matplotlib.pyplot as plt\n",
    "\n",
    "# Generate a uniform distribution between 0 and 1\n",
    "x = np.random.uniform(0, 1, 10000)\n",
    "\n",
    "# Set up the plot\n",
    "fig, ax = plt.subplots(figsize=(5, 2.7), layout='constrained')\n",
    "\n",
    "# Create the histogram for the uniform distribution\n",
    "n, bins, patches = ax.hist(x, 50, density=True, color='dodgerblue')\n",
    "\n",
    "ax.set_xlabel('x')\n",
    "ax.set_ylabel('Probability')\n",
    "\n",
    "# Adjust the axis parameters for the uniform distribution range\n",
    "ax.axis([-0.5, 1.5, 0, 1.5])\n",
    "ax.grid(True)\n"
   ]
  },
  {
   "cell_type": "markdown",
   "id": "db4f536c",
   "metadata": {},
   "source": [
    "### Exercise 3b: \n",
    "\n",
    "Now use the pandas library to import the Trees dataset from the following CSV file:\n",
    "\n",
    "https://star.herts.ac.uk/~kuhn/DHV/trees.csv\n",
    "\n",
    "Make a histogram of each variable."
   ]
  },
  {
   "cell_type": "code",
   "execution_count": 47,
   "id": "5a2aa78c",
   "metadata": {},
   "outputs": [],
   "source": [
    "import pandas as pd\n",
    "\n",
    "url = 'https://star.herts.ac.uk/~kuhn/DHV/trees.csv'\n",
    "\n",
    "# Write your code to obtain data from trees.csv. (Hint: use the code in the slides from the last lecture.)\n",
    "# Inspect the contents of this file so you know how to use it."
   ]
  },
  {
   "cell_type": "code",
   "execution_count": 71,
   "id": "bb43df39",
   "metadata": {},
   "outputs": [],
   "source": [
    "# Fill in the missing code. Some code has already been provided that may have helpful syntax\n",
    "\n",
    "# The following code creates 3 subplots \n",
    "# fig, axes = plt.subplots(nrows=1, ncols=3, figsize=(8, 3), layout='constrained')\n",
    "\n",
    "# ... code goes here ... \n",
    "\n",
    "# When plotting you can access the different subplots with indices\n",
    "# for i in range(3):\n",
    "#    axes[i].hist(... code goes here ...)\n",
    "#    ... code goes here ... "
   ]
  },
  {
   "cell_type": "markdown",
   "id": "55c90a83",
   "metadata": {},
   "source": [
    "### Exercise 3c:\n",
    "\n",
    "The cumulative distribution of a proability density function $p(x)$ is given by\n",
    "\n",
    "$F(x) = \\int_{-\\infty}^{x} p(x^\\prime) \\, dx^\\prime$\n",
    "\n",
    "For an empirical distribution, the method \n",
    "```python\n",
    "ax.ecdf(x)  \n",
    "```\n",
    "calculates and plots the 'empirical cumulative distribution function.'\n",
    "\n",
    "For the distributions in Example 3 and Exercise 3a, please plot the corresponding empirical cumulative distribution functions."
   ]
  },
  {
   "cell_type": "code",
   "execution_count": null,
   "id": "c7a3be38",
   "metadata": {},
   "outputs": [],
   "source": []
  },
  {
   "cell_type": "markdown",
   "id": "c25566fc",
   "metadata": {},
   "source": [
    "#### In the following cell, please describe and explain the results from Exercise 3c. "
   ]
  },
  {
   "cell_type": "markdown",
   "id": "42020d59",
   "metadata": {},
   "source": []
  },
  {
   "cell_type": "markdown",
   "id": "bb624560",
   "metadata": {},
   "source": [
    "### Example 4: Error envelope\n",
    "\n",
    "If you want to indicate uncertainty, the method ax.fill_between can be useful for showing the possible range of a function. The following code does not show real data, but illustrates the graphical capabilities of matplotlib."
   ]
  },
  {
   "cell_type": "code",
   "execution_count": 79,
   "id": "df2a5d8d",
   "metadata": {},
   "outputs": [
    {
     "data": {
      "image/png": "[encoded data removed]",
      "text/plain": [
       "<Figure size 640x480 with 1 Axes>"
      ]
     },
     "metadata": {},
     "output_type": "display_data"
    }
   ],
   "source": [
    "import matplotlib.pyplot as plt\n",
    "import numpy as np\n",
    "\n",
    "# make data\n",
    "np.random.seed(1)\n",
    "x = np.linspace(0, 8, 16)\n",
    "y1 = 3 + 4*x/8 + np.random.uniform(0.0, 0.5, len(x))\n",
    "y2 = 1 + 2*x/8 + np.random.uniform(0.0, 0.5, len(x))\n",
    "\n",
    "# plot\n",
    "fig, ax = plt.subplots()\n",
    "\n",
    "ax.fill_between(x, y1, y2, alpha=.5, linewidth=0)\n",
    "ax.plot(x, (y1 + y2)/2, linewidth=2)\n",
    "\n",
    "ax.set(xlim=(0, 8), xticks=np.arange(1, 8),\n",
    "       ylim=(0, 8), yticks=np.arange(1, 8))"
   ]
  },
  {
   "cell_type": "markdown",
   "id": "2435289b",
   "metadata": {},
   "source": [
    "### Exercise 4a: \n",
    "\n",
    "Modify the previous code in the following ways:\n",
    "+ add grid lines\n",
    "+ add axis labels x and y\n",
    "+ make the centre line red and the envelope pink"
   ]
  },
  {
   "cell_type": "code",
   "execution_count": null,
   "id": "b4a2b3e9",
   "metadata": {},
   "outputs": [],
   "source": []
  },
  {
   "cell_type": "markdown",
   "id": "c7f66374",
   "metadata": {},
   "source": [
    "### Exercise 4b: \n",
    "\n",
    "Please explain what each step in the code above is doing. E.g., what is 'alpha'?\n",
    "\n",
    "(You can figure this out by either experimentation or reading the documentation.)"
   ]
  },
  {
   "cell_type": "markdown",
   "id": "54279569",
   "metadata": {},
   "source": []
  },
  {
   "cell_type": "code",
   "execution_count": null,
   "id": "c0982eed",
   "metadata": {},
   "outputs": [],
   "source": []
  }
 ],
 "metadata": {
  "kernelspec": {
   "display_name": "Python 3",
   "language": "python",
   "name": "python3"
  },
  "language_info": {
   "codemirror_mode": {
    "name": "ipython",
    "version": 3
   },
   "file_extension": ".py",
   "mimetype": "text/x-python",
   "name": "python",
   "nbconvert_exporter": "python",
   "pygments_lexer": "ipython3",
   "version": "3.11.5"
  }
 },
 "nbformat": 4,
 "nbformat_minor": 5
}

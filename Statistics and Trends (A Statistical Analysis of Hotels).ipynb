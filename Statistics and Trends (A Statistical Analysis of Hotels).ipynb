{
 "cells": [
  {
   "cell_type": "code",
   "execution_count": null,
   "id": "39c9b4c4",
   "metadata": {},
   "outputs": [],
   "source": [
    "#Importing Python Libraries that I am using\n",
    "import pandas as pd\n",
    "import seaborn as sns\n",
    "import numpy as np\n",
    "from matplotlib import pyplot as plt\n",
    "\n",
    "#Defining 'hotel' as our Dataframe using Pandas read_csv() function\n",
    "hotel= pd.read_csv(\"hotel_bookings.csv\")\n",
    "\n",
    "#Describing the Dataframe 'hotel'\n",
    "hotel.describe()\n",
    "\n",
    "# Figure A: Cancellation Rate\n",
    "# Making the Piechart of 'is_canceled'\n",
    "cols = ['#9467bd', '#FF6347']  # Updated colors\n",
    "hotel['is_canceled'].value_counts().plot.pie(autopct='%1.1f%%', shadow=True, colors=cols, fontsize=12)\n",
    "plt.title(\"Figure A: Cancellation Rate\", fontsize=14)  # Increased title font size\n",
    "plt.show()\n",
    "\n",
    "\n",
    "#Figure B : Lead Time Vs Cancellation Rate\n",
    "# group data for lead_time:\n",
    "lead_cancel_data = hotel.groupby(\"lead_time\")[\"is_canceled\"].describe()\n",
    "# use only lead_times wih more than 10 bookings for graph:\n",
    "lead_cancel_data_10 = lead_cancel_data.loc[lead_cancel_data[\"count\"] >= 10]\n",
    "#show figure:\n",
    "plt.figure(figsize=(12, 8))\n",
    "sns.regplot(x=lead_cancel_data_10.index, y=lead_cancel_data_10[\"mean\"].values * 100)\n",
    "plt.title(\"Figure B : Lead Time Vs Cancellation Rate\", fontsize=16)\n",
    "plt.xlabel(\"Lead time\", fontsize=16)\n",
    "plt.ylabel(\"Cancellation [%]\", fontsize=16)\n",
    "# plt.xlim(0,365)\n",
    "plt.show()\n",
    "\n",
    "\n",
    "\n",
    "#Figure C: Lead Time Vs Cancellation Rate Across Three Years\n",
    "plt.figure(figsize=(12,6))\n",
    "# Changing color palette to 'Set2'\n",
    "sns.barplot(x='arrival_date_year', y='lead_time', hue='is_canceled', data=hotel, palette='Set2')\n",
    "# Setting x-axis label\n",
    "plt.xlabel('Arrival Date Year', fontsize=12)\n",
    "# Setting y-axis label\n",
    "plt.ylabel('Lead Time', fontsize=12)\n",
    "plt.title('Figure C: Lead Time Vs Cancellation Rate Across Three Years', fontsize=14)\n",
    "plt.show()\n",
    "\n",
    "#Figure D : Box Plot of Lead Time and Cancellation Rate Across Two Hotels\n",
    "plt.figure(figsize=(12, 8))\n",
    "sns.boxplot(x=\"hotel\",  \n",
    "            y=\"lead_time\",\n",
    "            hue=\"is_canceled\",  \n",
    "            data=hotel, \n",
    "            hue_order=[0, 1],  \n",
    "            fliersize=0)\n",
    "plt.title(\"Figure D : Box Plot of Lead Time and Cancellation Rate Across Two Hotels\", fontsize=16)\n",
    "plt.xlabel(\"Hotel\", fontsize=16)\n",
    "plt.ylabel(\"Lead Time\", fontsize=16)\n",
    "plt.legend(loc=\"upper right\")\n",
    "plt.ylim(0,550)\n",
    "plt.show()"
   ]
  },
  {
   "cell_type": "code",
   "execution_count": null,
   "id": "7f110f4f",
   "metadata": {},
   "outputs": [],
   "source": []
  },
  {
   "cell_type": "code",
   "execution_count": null,
   "id": "ec0dbef2",
   "metadata": {},
   "outputs": [],
   "source": []
  },
  {
   "cell_type": "code",
   "execution_count": null,
   "id": "652933ca",
   "metadata": {},
   "outputs": [],
   "source": []
  }
 ],
 "metadata": {
  "kernelspec": {
   "display_name": "Python 3",
   "language": "python",
   "name": "python3"
  },
  "language_info": {
   "codemirror_mode": {
    "name": "ipython",
    "version": 3
   },
   "file_extension": ".py",
   "mimetype": "text/x-python",
   "name": "python",
   "nbconvert_exporter": "python",
   "pygments_lexer": "ipython3",
   "version": "3.6.2"
  }
 },
 "nbformat": 4,
 "nbformat_minor": 5
}
